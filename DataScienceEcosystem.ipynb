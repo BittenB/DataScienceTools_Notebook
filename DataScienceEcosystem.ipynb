{
  "nbformat": 4,
  "nbformat_minor": 0,
  "metadata": {
    "colab": {
      "provenance": []
    },
    "kernelspec": {
      "name": "python3",
      "display_name": "Python 3"
    },
    "language_info": {
      "name": "python"
    }
  },
  "cells": [
    {
      "cell_type": "markdown",
      "source": [
        "#Data Science Tools and Ecosystem"
      ],
      "metadata": {
        "id": "gdds9qi1EI_E"
      }
    },
    {
      "cell_type": "markdown",
      "source": [
        "##In this notebook, Data Science Tools and Ecosystem are summarized."
      ],
      "metadata": {
        "id": "s7EUOO1RGMJs"
      }
    },
    {
      "cell_type": "markdown",
      "source": [
        "**Objectives:**\n",
        "\n",
        "\n",
        "*   list some languages\n",
        "*   list some libraries\n",
        "*   rehearse text possibilities\n",
        "*   rehearse a few arithmetic expressions\n",
        "\n"
      ],
      "metadata": {
        "id": "B0lUy-pTYc1q"
      }
    },
    {
      "cell_type": "markdown",
      "source": [
        "###Some of the popular languages that Data Scientists use are:\n",
        "\n",
        "\n",
        "1.   Python\n",
        "2.   R\n",
        "3.   SQL\n",
        "\n",
        "\n"
      ],
      "metadata": {
        "id": "MaQBA8ZiHeC_"
      }
    },
    {
      "cell_type": "markdown",
      "source": [
        "###Some of the commonly used libraries used by Data Scientists include:\n",
        "\n",
        "\n",
        "1.   Pandas\n",
        "2.   NymPy\n",
        "3.   SciPy\n",
        "4.   Matplotlib\n",
        "\n"
      ],
      "metadata": {
        "id": "hx7GmwC-I83M"
      }
    },
    {
      "cell_type": "markdown",
      "source": [
        "|Data Science Tools|\n",
        "|------------------|\n",
        "|Jypyter Notebook|\n",
        "|RStudio|\n",
        "|Spyder|\n"
      ],
      "metadata": {
        "id": "zR_5EQ24Pn0V"
      }
    },
    {
      "cell_type": "markdown",
      "source": [
        "###Below are a few examples of evaluating arithmetic expressions in Python"
      ],
      "metadata": {
        "id": "jcelstjyT06c"
      }
    },
    {
      "cell_type": "markdown",
      "source": [],
      "metadata": {
        "id": "0xdWtQokYMZu"
      }
    },
    {
      "cell_type": "code",
      "source": [
        "###This a simple arithmetic expression to mutiply then add integers\n",
        "(3*4)+5"
      ],
      "metadata": {
        "colab": {
          "base_uri": "https://localhost:8080/"
        },
        "id": "mXaOlMNDUfhS",
        "outputId": "c745a7f5-2de4-493f-8d32-8c09a9116590"
      },
      "execution_count": 2,
      "outputs": [
        {
          "output_type": "execute_result",
          "data": {
            "text/plain": [
              "17"
            ]
          },
          "metadata": {},
          "execution_count": 2
        }
      ]
    },
    {
      "cell_type": "code",
      "source": [
        "### This will convert 200 minutes to hours by diving by 60\n",
        "# Define the number of minutes\n",
        "minutes = 200\n",
        "\n",
        "# Convert minutes to hours (integer division)\n",
        "hours = minutes // 60\n",
        "\n",
        "# Calculate remaining minutes\n",
        "remaining_minutes = minutes % 60\n",
        "\n",
        "# Print the results\n",
        "print(f\"{minutes} minutes is equivalent to {hours} hours and {remaining_minutes} minutes.\")\n"
      ],
      "metadata": {
        "colab": {
          "base_uri": "https://localhost:8080/"
        },
        "id": "Ywi4PqbEWIPK",
        "outputId": "73b0ec8d-a9f9-42a0-9ce6-67b65c997216"
      },
      "execution_count": 3,
      "outputs": [
        {
          "output_type": "stream",
          "name": "stdout",
          "text": [
            "200 minutes is equivalent to 3 hours and 20 minutes.\n"
          ]
        }
      ]
    },
    {
      "cell_type": "markdown",
      "source": [
        "##Author\n",
        "Bitten"
      ],
      "metadata": {
        "id": "v8C2VHDNZv9x"
      }
    }
  ]
}